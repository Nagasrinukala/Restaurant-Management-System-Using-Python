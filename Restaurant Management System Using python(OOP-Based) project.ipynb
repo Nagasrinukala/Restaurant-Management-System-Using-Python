{
 "cells": [
  {
   "cell_type": "markdown",
   "id": "41d392ae-25ba-498c-b648-8f94817f62d2",
   "metadata": {},
   "source": [
    "# Restaurant Management System in Pyton (OOP - Based)"
   ]
  },
  {
   "cell_type": "markdown",
   "id": "46243363-200a-4fe9-82e8-06c3fa38c583",
   "metadata": {},
   "source": [
    "##### This project will simulate a Restaurant Management System using Python's Object-Oriented Programming (OOP) concepts.\n",
    "\n",
    "## Project Structure \n",
    "\n",
    "* We will create the following classes\n",
    "* 1. MenuItem - Represents a dish in the menu.\n",
    "  2. Order - Manages Customer orders.\n",
    "  3. Restaurant - Handles the overall restaurant operations."
   ]
  },
  {
   "cell_type": "markdown",
   "id": "1e0f9a4e-0917-410a-90cd-2dd51c278648",
   "metadata": {},
   "source": [
    "# step 1 : Define the MenuItem Class\n",
    "\n",
    "* This class stores details of each dish(self,name,and optional description)."
   ]
  },
  {
   "cell_type": "code",
   "execution_count": 3,
   "id": "bafd99ba-4843-4e00-bb7e-0ba770f83978",
   "metadata": {},
   "outputs": [],
   "source": [
    "# class MenuItems defines the class.\n",
    "class MenuItem:\n",
    "    def __init__(self,name,price,description=\" \"):\n",
    "            # __init__ is the constructor method that initializes the object.\n",
    "        self.name = name \n",
    "        self.price = price \n",
    "        self.description = description \n",
    "\n",
    "    def __str__(self):\n",
    "            # __str__ defines how the object should be represented as a string when printed.\n",
    "        return f\"{self.name}: ₹{self.price} - {self.description}\""
   ]
  },
  {
   "cell_type": "code",
   "execution_count": 4,
   "id": "49315970-7f3f-4530-8c0d-073d8609a0fe",
   "metadata": {},
   "outputs": [
    {
     "name": "stdout",
     "output_type": "stream",
     "text": [
      "Biryani: ₹250 - FRY PIECE\n"
     ]
    }
   ],
   "source": [
    "item_1 = MenuItem(\"Biryani\",250,\"FRY PIECE\") ; print(item_1)"
   ]
  },
  {
   "cell_type": "markdown",
   "id": "85cb4081-1cca-4c12-8ae7-1991df8af1b1",
   "metadata": {},
   "source": [
    "# Step 2 : Define the Order Class \n",
    "\n",
    "* This class manages a single customer order , including :\n",
    "* Adding/reoving items\n",
    "* Calculating the total bill"
   ]
  },
  {
   "cell_type": "code",
   "execution_count": 25,
   "id": "df7603eb-8836-4dbd-83a5-7ee6abd11644",
   "metadata": {},
   "outputs": [],
   "source": [
    "# __init__(self)\n",
    "# Class Order defines the class.\n",
    "class Order:\n",
    "    def __init__(self):            # __init__ is the constructor method that initializes the object.\n",
    "        self.items = []         # [] empty list stores the MenuItem objects (items).\n",
    "\n",
    "\n",
    "# ADD ITEM TO THE LIST \n",
    "    def add_item(self,item):\n",
    "        self.items.append(item) # Adds the item to the list \n",
    "\n",
    "\n",
    "# REMOVE ITEM FROM THE LIST \n",
    "    def remove_item(self,item_name):\n",
    "        for item in self.items:\n",
    "            if item_name == item_name: # checks if item exists\n",
    "                self.items.remove(item)\n",
    "                return True      # Item removed \n",
    "        return False  # Item not found\n",
    "\n",
    "\n",
    "# CALCULATE TOTAL(SELF)\n",
    "    def calculate_total(self):\n",
    "        return sum(item.price for item in self.items)     # Sums all prices\n",
    "\n",
    "\n",
    "    def display_order(self):\n",
    "        if not self.items:\n",
    "            print(\"No items in the order.\")\n",
    "            return\n",
    "        print(\"\\n----------------- YOUR ORDER ------------------\")\n",
    "        for item in self.items:\n",
    "            print(item)   # uses MenuItem __str__ method\n",
    "        print(f\"Total Bill Amount: ₹{self.calculate_total()}\")\n",
    "    "
   ]
  },
  {
   "cell_type": "code",
   "execution_count": 26,
   "id": "1b2f1b3a-1019-46d3-a5cf-292e22adfed1",
   "metadata": {},
   "outputs": [
    {
     "name": "stdout",
     "output_type": "stream",
     "text": [
      "Chicken Biryani: ₹250 - FRY PIECE\n",
      "Mutton Biryani: ₹550 - EXTRA PIECES\n",
      "Noodles: ₹175 - CHICKEN\n",
      "Fried rice: ₹130 - VEG\n"
     ]
    }
   ],
   "source": [
    "# Create MenuItems\n",
    "item1 = MenuItem(\"Chicken Biryani\",250,\"FRY PIECE\")\n",
    "item2 = MenuItem(\"Mutton Biryani\",550,\"EXTRA PIECES\") \n",
    "item3 = MenuItem(\"Noodles\",175,\"CHICKEN\")\n",
    "item4 = MenuItem(\"Fried rice\",130,\"VEG\")\n",
    "print(item1)\n",
    "print(item2)\n",
    "print(item3)\n",
    "print(item4)"
   ]
  },
  {
   "cell_type": "code",
   "execution_count": 27,
   "id": "5a9ebfa1-43f2-49e1-adc4-4872a5029af9",
   "metadata": {},
   "outputs": [
    {
     "name": "stdout",
     "output_type": "stream",
     "text": [
      "\n",
      "----------------- YOUR ORDER ------------------\n",
      "Chicken Biryani: ₹250 - FRY PIECE\n",
      "Mutton Biryani: ₹550 - EXTRA PIECES\n",
      "Total Bill Amount: ₹800\n"
     ]
    }
   ],
   "source": [
    "# Create an Order and add items \n",
    "order = Order()\n",
    "order.add_item(item1)\n",
    "order.add_item(item2)\n",
    "# Display the Order \n",
    "order.display_order()"
   ]
  },
  {
   "cell_type": "code",
   "execution_count": 28,
   "id": "9df7faad-22dd-401a-9711-67763a765dae",
   "metadata": {},
   "outputs": [
    {
     "name": "stdout",
     "output_type": "stream",
     "text": [
      "\n",
      "----------------- YOUR ORDER ------------------\n",
      "Mutton Biryani: ₹550 - EXTRA PIECES\n",
      "Total Bill Amount: ₹550\n"
     ]
    }
   ],
   "source": [
    "# Remove an item and display again\n",
    "order.remove_item(item1)\n",
    "# Display the Order \n",
    "order.display_order()"
   ]
  },
  {
   "cell_type": "markdown",
   "id": "69f5f948-c0b4-4888-b46a-220a8713a06f",
   "metadata": {},
   "source": [
    "# Step 3 : Define the Restaurant class"
   ]
  },
  {
   "cell_type": "markdown",
   "id": "29906425-f077-49b9-a7c4-d1e752d67812",
   "metadata": {},
   "source": [
    "## This class manages :\n",
    "* The restaurant menu(add/remove dishes)\n",
    "* Taking Orders\n",
    "* Generating bills"
   ]
  },
  {
   "cell_type": "code",
   "execution_count": 29,
   "id": "8b666741-d4ac-4153-9da7-003d314ae378",
   "metadata": {},
   "outputs": [],
   "source": [
    "class Restaurant:\n",
    "    def __init__(self,name):\n",
    "        self.name = name\n",
    "        self.menu = []    # List of MenuItem Objects\n",
    "        self.orders = []  # List of Order Objects \n",
    "\n",
    "#add_dish(dish)\n",
    "    def add_dish(self,dish):\n",
    "        self.menu.append(dish)     # Adds a new  to the restaurants menu list \n",
    "\n",
    "#remove_dish(dish_name)\n",
    "    def remove_dish(self,dish_name):\n",
    "        for dish in self.menu:\n",
    "            if dish.name == dish_name:\n",
    "                self.menu.remove(dish)\n",
    "                return True \n",
    "        return False\n",
    "\n",
    "# display_menu()\n",
    "    def display_menu(self):\n",
    "        print(\"\\n---------------TASTE THE FOOD-----------------\" )\n",
    "        print(\"\\n BESIDE GANDHI BOMMA STREET , DHANAVAI PETA,\")\n",
    "        print(\"\\n  RAJAMAHENDRAVARAM, ANDHRA PRADESH, 533103\")\n",
    "        print(\"\\n---------------------Menu---------------------\")\n",
    "        for dish in self.menu:\n",
    "            print(dish)   # prints all dishes in menu\n",
    "\n",
    "# taking order\n",
    "    def take_order(self):\n",
    "        order = Order()\n",
    "        while True:\n",
    "            self.display_menu()\n",
    "            choice = input(\"Enter dish name to add :\").lower().upper()    # Taking order from customer \n",
    "            if choice.lower() == 'done':      # After succesfully completion to take order \n",
    "                break\n",
    "            found = False\n",
    "            for dish in self.menu:\n",
    "                if dish.name.lower() == choice.lower() :\n",
    "                    order.add_item(dish)\n",
    "                    print(f\"Added {dish.name} to order.\")\n",
    "                    found = True\n",
    "                    break\n",
    "            if not found:\n",
    "                print(\"Dish not found !\")\n",
    "        if order.items:\n",
    "            self.orders.append(order)\n",
    "            print(\"\\nOrder placed successifully!\")\n",
    "            order.display_order()\n",
    "\n",
    "    def generate_bill(self,order_index):\n",
    "        if 0 <= order_index < len(self.orders):\n",
    "            print(\"\\n---------------------Bill----------------------\")\n",
    "            self.orders[order_index].display_order()\n",
    "        else:\n",
    "            print(\"Invalid order index.\")"
   ]
  },
  {
   "cell_type": "markdown",
   "id": "a925f4eb-d2a8-4e59-8dbb-5a7dc54e76e5",
   "metadata": {},
   "source": [
    "# Step 4 : Testing the system"
   ]
  },
  {
   "cell_type": "markdown",
   "id": "fea8a3fa-9edc-4b96-8c7a-96cf1de39115",
   "metadata": {},
   "source": [
    "#### Let's create a restaurant , add dishes , take orders and generate bills."
   ]
  },
  {
   "cell_type": "code",
   "execution_count": 32,
   "id": "6c11044c-429e-457c-9f9d-875f331b3ecd",
   "metadata": {},
   "outputs": [
    {
     "name": "stdout",
     "output_type": "stream",
     "text": [
      "\n",
      " Taking a new Order\n",
      "\n",
      "---------------TASTE THE FOOD-----------------\n",
      "\n",
      " BESIDE GANDHI BOMMA STREET , DHANAVAI PETA,\n",
      "\n",
      "  RAJAMAHENDRAVARAM, ANDHRA PRADESH, 533103\n",
      "\n",
      "---------------------Menu---------------------\n",
      "Chicken Biryani: ₹250 - FRY PIECE\n",
      "Mutton Biryani: ₹550 - EXTRA PIECES\n",
      "Mutton Mandi: ₹670 - KAAZU MANDI\n",
      "Chicken Dum Biryani: ₹250 - DOUBLE MASALA\n",
      "Chicken pulav: ₹185 - EXTRA PIECES\n",
      "Bahubali Biryani: ₹1250 - UNLIMITED\n",
      "Noodles: ₹175 - CHICKEN\n",
      "Veg Noodles: ₹150 - EXTRA MASSALA\n",
      "Fried rice: ₹130 - VEG\n",
      "Veg Fried Rice: ₹145 - VEG\n"
     ]
    },
    {
     "name": "stdin",
     "output_type": "stream",
     "text": [
      "Enter dish name to add : NOODLES\n"
     ]
    },
    {
     "name": "stdout",
     "output_type": "stream",
     "text": [
      "Added Noodles to order.\n",
      "\n",
      "---------------TASTE THE FOOD-----------------\n",
      "\n",
      " BESIDE GANDHI BOMMA STREET , DHANAVAI PETA,\n",
      "\n",
      "  RAJAMAHENDRAVARAM, ANDHRA PRADESH, 533103\n",
      "\n",
      "---------------------Menu---------------------\n",
      "Chicken Biryani: ₹250 - FRY PIECE\n",
      "Mutton Biryani: ₹550 - EXTRA PIECES\n",
      "Mutton Mandi: ₹670 - KAAZU MANDI\n",
      "Chicken Dum Biryani: ₹250 - DOUBLE MASALA\n",
      "Chicken pulav: ₹185 - EXTRA PIECES\n",
      "Bahubali Biryani: ₹1250 - UNLIMITED\n",
      "Noodles: ₹175 - CHICKEN\n",
      "Veg Noodles: ₹150 - EXTRA MASSALA\n",
      "Fried rice: ₹130 - VEG\n",
      "Veg Fried Rice: ₹145 - VEG\n"
     ]
    },
    {
     "name": "stdin",
     "output_type": "stream",
     "text": [
      "Enter dish name to add : bahubali biryani\n"
     ]
    },
    {
     "name": "stdout",
     "output_type": "stream",
     "text": [
      "Added Bahubali Biryani to order.\n",
      "\n",
      "---------------TASTE THE FOOD-----------------\n",
      "\n",
      " BESIDE GANDHI BOMMA STREET , DHANAVAI PETA,\n",
      "\n",
      "  RAJAMAHENDRAVARAM, ANDHRA PRADESH, 533103\n",
      "\n",
      "---------------------Menu---------------------\n",
      "Chicken Biryani: ₹250 - FRY PIECE\n",
      "Mutton Biryani: ₹550 - EXTRA PIECES\n",
      "Mutton Mandi: ₹670 - KAAZU MANDI\n",
      "Chicken Dum Biryani: ₹250 - DOUBLE MASALA\n",
      "Chicken pulav: ₹185 - EXTRA PIECES\n",
      "Bahubali Biryani: ₹1250 - UNLIMITED\n",
      "Noodles: ₹175 - CHICKEN\n",
      "Veg Noodles: ₹150 - EXTRA MASSALA\n",
      "Fried rice: ₹130 - VEG\n",
      "Veg Fried Rice: ₹145 - VEG\n"
     ]
    },
    {
     "name": "stdin",
     "output_type": "stream",
     "text": [
      "Enter dish name to add : chicken pulav\n"
     ]
    },
    {
     "name": "stdout",
     "output_type": "stream",
     "text": [
      "Added Chicken pulav to order.\n",
      "\n",
      "---------------TASTE THE FOOD-----------------\n",
      "\n",
      " BESIDE GANDHI BOMMA STREET , DHANAVAI PETA,\n",
      "\n",
      "  RAJAMAHENDRAVARAM, ANDHRA PRADESH, 533103\n",
      "\n",
      "---------------------Menu---------------------\n",
      "Chicken Biryani: ₹250 - FRY PIECE\n",
      "Mutton Biryani: ₹550 - EXTRA PIECES\n",
      "Mutton Mandi: ₹670 - KAAZU MANDI\n",
      "Chicken Dum Biryani: ₹250 - DOUBLE MASALA\n",
      "Chicken pulav: ₹185 - EXTRA PIECES\n",
      "Bahubali Biryani: ₹1250 - UNLIMITED\n",
      "Noodles: ₹175 - CHICKEN\n",
      "Veg Noodles: ₹150 - EXTRA MASSALA\n",
      "Fried rice: ₹130 - VEG\n",
      "Veg Fried Rice: ₹145 - VEG\n"
     ]
    },
    {
     "name": "stdin",
     "output_type": "stream",
     "text": [
      "Enter dish name to add : done\n"
     ]
    },
    {
     "name": "stdout",
     "output_type": "stream",
     "text": [
      "\n",
      "Order placed successifully!\n",
      "\n",
      "----------------- YOUR ORDER ------------------\n",
      "Noodles: ₹175 - CHICKEN\n",
      "Bahubali Biryani: ₹1250 - UNLIMITED\n",
      "Chicken pulav: ₹185 - EXTRA PIECES\n",
      "Total Bill Amount: ₹1610\n",
      "\n",
      " Generating bill\n",
      "\n",
      "---------------------Bill----------------------\n",
      "\n",
      "----------------- YOUR ORDER ------------------\n",
      "Noodles: ₹175 - CHICKEN\n",
      "Bahubali Biryani: ₹1250 - UNLIMITED\n",
      "Chicken pulav: ₹185 - EXTRA PIECES\n",
      "Total Bill Amount: ₹1610\n"
     ]
    }
   ],
   "source": [
    "if __name__ == \"__main__\":\n",
    "    my_restaurant = Restaurant(\"Mehfil\")\n",
    "\n",
    "    my_restaurant.add_dish(MenuItem(\"Chicken Biryani\",250,\"FRY PIECE\"))\n",
    "    my_restaurant.add_dish(MenuItem(\"Mutton Biryani\",550,\"EXTRA PIECES\"))\n",
    "    my_restaurant.add_dish(MenuItem(\"Mutton Mandi\",670,\"KAAZU MANDI\"))\n",
    "    my_restaurant.add_dish(MenuItem(\"Chicken Dum Biryani\",250,\"DOUBLE MASALA\"))\n",
    "    my_restaurant.add_dish(MenuItem(\"Chicken pulav\",185,\"EXTRA PIECES\"))\n",
    "    my_restaurant.add_dish(MenuItem(\"Bahubali Biryani\",1250,\"UNLIMITED\"))\n",
    "    my_restaurant.add_dish(MenuItem(\"Noodles\",175,\"CHICKEN\"))\n",
    "    my_restaurant.add_dish(MenuItem(\"Veg Noodles\",150,\"EXTRA MASSALA\"))\n",
    "    my_restaurant.add_dish(MenuItem(\"Fried rice\",130,\"VEG\"))\n",
    "    my_restaurant.add_dish(MenuItem(\"Veg Fried Rice\",145,\"VEG\"))\n",
    "    \n",
    "\n",
    "    print(\"\\n Taking a new Order\")\n",
    "    my_restaurant.take_order()\n",
    "\n",
    "    print(\"\\n Generating bill\")\n",
    "    my_restaurant.generate_bill(0)"
   ]
  },
  {
   "cell_type": "code",
   "execution_count": null,
   "id": "2b06eca0-1264-41a8-af12-efcdf7f2fdd3",
   "metadata": {},
   "outputs": [],
   "source": []
  },
  {
   "cell_type": "code",
   "execution_count": null,
   "id": "cc83a2e4-c25a-4a54-b1b9-24d62a1817eb",
   "metadata": {},
   "outputs": [],
   "source": []
  }
 ],
 "metadata": {
  "kernelspec": {
   "display_name": "Python 3 (ipykernel)",
   "language": "python",
   "name": "python3"
  },
  "language_info": {
   "codemirror_mode": {
    "name": "ipython",
    "version": 3
   },
   "file_extension": ".py",
   "mimetype": "text/x-python",
   "name": "python",
   "nbconvert_exporter": "python",
   "pygments_lexer": "ipython3",
   "version": "3.13.3"
  }
 },
 "nbformat": 4,
 "nbformat_minor": 5
}
